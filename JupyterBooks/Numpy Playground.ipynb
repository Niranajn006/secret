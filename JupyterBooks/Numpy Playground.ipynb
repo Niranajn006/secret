{
 "cells": [
  {
   "cell_type": "markdown",
   "metadata": {},
   "source": [
    "# Intro to Numpy N-dimensional Array \n",
    "\n",
    "NumPy is a Python library that can be used for scientific and numerical applications and is the\n",
    "tool to use for linear algebra operations."
   ]
  },
  {
   "cell_type": "code",
   "execution_count": 4,
   "metadata": {},
   "outputs": [
    {
     "name": "stdout",
     "output_type": "stream",
     "text": [
      "Show Array: [1. 2. 3.]\n",
      "Array Shape: (3,)\n",
      "Array Type: float64\n"
     ]
    }
   ],
   "source": [
    "import numpy as np\n",
    "\n",
    "# Create array \n",
    "l = [1.0, 2.0, 3.0]\n",
    "a = np.array(l)\n",
    "\n",
    "# Display array\n",
    "print('Show Array:',a)\n",
    "print('Array Shape:', a.shape) # 1 dimension arrray with 3 elements\n",
    "print('Array Type:', a.dtype)"
   ]
  },
  {
   "cell_type": "markdown",
   "metadata": {},
   "source": [
    "# 1.Function to Create  Array \n",
    "## 1.1 Empty \n",
    "The empty() function will create a new array of the specified shape. The argument to the\n",
    "function is an array or tuple that specifies the length of each dimension of the array to create"
   ]
  },
  {
   "cell_type": "code",
   "execution_count": 6,
   "metadata": {},
   "outputs": [
    {
     "name": "stdout",
     "output_type": "stream",
     "text": [
      "[[5.05117710e-038 6.98610994e-076 4.46548997e-086]\n",
      " [3.35659047e-143 6.01433264e+175 6.93885958e+218]\n",
      " [5.56218858e+180 3.94356143e+180 4.25119588e+174]]\n"
     ]
    }
   ],
   "source": [
    "b = np.empty([3,3])\n",
    "print(b)"
   ]
  },
  {
   "cell_type": "markdown",
   "metadata": {},
   "source": [
    "## 1.2. Zeros \n",
    "The zeros() function will create a new array of the specified size with the contents filled with\n",
    "zero values."
   ]
  },
  {
   "cell_type": "code",
   "execution_count": 8,
   "metadata": {},
   "outputs": [
    {
     "name": "stdout",
     "output_type": "stream",
     "text": [
      "[[0. 0. 0. 0. 0.]\n",
      " [0. 0. 0. 0. 0.]\n",
      " [0. 0. 0. 0. 0.]]\n"
     ]
    }
   ],
   "source": [
    "c = np.zeros([3,5])\n",
    "print(c)"
   ]
  },
  {
   "cell_type": "markdown",
   "metadata": {},
   "source": [
    "## 1.3. Ones\n",
    "The ones() function will create a new array of the specified size with the contents filled with\n",
    "one values."
   ]
  },
  {
   "cell_type": "code",
   "execution_count": 9,
   "metadata": {},
   "outputs": [
    {
     "name": "stdout",
     "output_type": "stream",
     "text": [
      "[[1. 1. 1. 1. 1.]\n",
      " [1. 1. 1. 1. 1.]\n",
      " [1. 1. 1. 1. 1.]]\n"
     ]
    }
   ],
   "source": [
    "d = np.ones([3,5])\n",
    "print(d)"
   ]
  },
  {
   "cell_type": "markdown",
   "metadata": {},
   "source": [
    "# 2. Combining Arrays\n",
    "## 2.1 Vertical Stack\n",
    "Given two or more existing arrays, you can stack them vertically using the vstack() function."
   ]
  },
  {
   "cell_type": "code",
   "execution_count": 18,
   "metadata": {},
   "outputs": [
    {
     "name": "stdout",
     "output_type": "stream",
     "text": [
      "After combine array:\n",
      " [[1 2 3]\n",
      " [4 5 6]]\n",
      "a3 array shape: (2, 3)\n"
     ]
    }
   ],
   "source": [
    "a1 = np.array(list(range(1,4)))\n",
    "a2 = np.array(list(range(4,7)))\n",
    "a3 = np.vstack((a1, a2))\n",
    "print('After combine array:\\n', a3)\n",
    "print('a3 array shape:', a3.shape)\n"
   ]
  },
  {
   "cell_type": "markdown",
   "metadata": {},
   "source": [
    "## 2.2 Horizontal Stack \n",
    "Given two or more existing arrays, you can stack them horizontally using the hstack() function."
   ]
  },
  {
   "cell_type": "code",
   "execution_count": 19,
   "metadata": {},
   "outputs": [
    {
     "name": "stdout",
     "output_type": "stream",
     "text": [
      "After combind array:\n",
      " [1 2 3 4 5 6]\n",
      "a4 arary shape: (6,)\n"
     ]
    }
   ],
   "source": [
    "a4 = np.hstack((a1, a2))\n",
    "print('After combind array:\\n', a4)\n",
    "print('a4 arary shape:', a4.shape)"
   ]
  },
  {
   "cell_type": "markdown",
   "metadata": {},
   "source": [
    "# 3. Array Indexing \n",
    "## 3.1 One-Dimensional Indexing \n",
    "Generally, indexing works just like you would expect from your experience with other programming languages, like Java, C#, and C++. You can access elements using the bracket operator `[]`"
   ]
  },
  {
   "cell_type": "code",
   "execution_count": 21,
   "metadata": {},
   "outputs": [
    {
     "name": "stdout",
     "output_type": "stream",
     "text": [
      "First element: 1\n",
      "Last element: 6\n"
     ]
    }
   ],
   "source": [
    "print('First element:', a4[0])\n",
    "print('Last element:', a4[-1])"
   ]
  },
  {
   "cell_type": "markdown",
   "metadata": {},
   "source": [
    "## 3.2 Two-Dimensional Indexing\n",
    "Indexing two-dimensional data is similar to indexing one-dimensional data, except that a comma\n",
    "is used to separate the index for each dimension."
   ]
  },
  {
   "cell_type": "code",
   "execution_count": 26,
   "metadata": {},
   "outputs": [
    {
     "name": "stdout",
     "output_type": "stream",
     "text": [
      "First element both row and column: 1\n",
      "All row in first column [1 4]\n",
      "All column in first row [1 2 3]\n"
     ]
    }
   ],
   "source": [
    "print('First element both row and column:', a3[0,0])\n",
    "print('All row in first column', a3[:,0])\n",
    "print('All column in first row', a3[0,:])"
   ]
  },
  {
   "cell_type": "markdown",
   "metadata": {},
   "source": [
    "## 3.3 Split Train and Test Rows \n",
    "It is common to split a loaded dataset into separate train and test sets. This is a splitting of\n",
    "rows where some portion will be used to train the model and the remaining portion will be used\n",
    "to estimate the skill of the trained model."
   ]
  },
  {
   "cell_type": "code",
   "execution_count": 27,
   "metadata": {},
   "outputs": [
    {
     "name": "stdout",
     "output_type": "stream",
     "text": [
      "Train data:\n",
      " [[11 22 33]\n",
      " [44 55 66]]\n",
      "Test data:\n",
      " [[77 88 99]]\n"
     ]
    }
   ],
   "source": [
    "data = np.array([\n",
    "    [11, 22, 33],\n",
    "    [44, 55, 66],\n",
    "    [77, 88, 99]\n",
    "])\n",
    "\n",
    "# Seperate data based on row of array \n",
    "split = 2 \n",
    "train, test = data[:split,:], data[split:, :]\n",
    "print('Train data:\\n', train)\n",
    "print('Test data:\\n', test)"
   ]
  },
  {
   "cell_type": "markdown",
   "metadata": {},
   "source": [
    "# 4. Array Reshaping \n",
    "After slicing your data, you may need to reshape it. For example, some libraries, such as\n",
    "scikit-learn, may require that a one-dimensional array of output variables (y) be shaped as a\n",
    "two-dimensional array with one column and outcomes for each column.\n",
    "\n",
    "## 4.1 Data Shape\n",
    "NumPy arrays have a `shape` attribute that returns a tuple of the length of each dimension of\n",
    "the array. "
   ]
  },
  {
   "cell_type": "code",
   "execution_count": 32,
   "metadata": {},
   "outputs": [
    {
     "name": "stdout",
     "output_type": "stream",
     "text": [
      "Shape of data: (3, 3)\n",
      "Rows: 3\n",
      "Columns: 3\n"
     ]
    }
   ],
   "source": [
    "print('Shape of data:', data.shape)\n",
    "print('Rows: %d'%data.shape[0])\n",
    "print('Columns: %d'%data.shape[1])"
   ]
  },
  {
   "cell_type": "markdown",
   "metadata": {},
   "source": [
    "## 4.2 Reshape 1D to 2D Array \n",
    "NumPy provides the `reshape()` function on the NumPy array\n",
    "object that can be used to reshape the data. The `reshape()` function takes a single argument\n",
    "that specifies the new shape of the array."
   ]
  },
  {
   "cell_type": "code",
   "execution_count": 38,
   "metadata": {},
   "outputs": [
    {
     "name": "stdout",
     "output_type": "stream",
     "text": [
      "Array d2 after reshape:\n",
      " [[11]\n",
      " [22]\n",
      " [33]\n",
      " [44]\n",
      " [55]]\n",
      "Shape of data: (5, 1)\n",
      "Array d1: [11 22 33 44 55]\n"
     ]
    }
   ],
   "source": [
    "d1 = np.array([11, 22, 33, 44, 55])\n",
    "\n",
    "# Reshape \n",
    "d2 = d1.reshape((d1.shape[0], 1))\n",
    "#d2 = d1.reshape((3,2))\n",
    "print('Array d2 after reshape:\\n', d2)\n",
    "print('Shape of data:', d2.shape)\n",
    "print('Array d1:', d1)"
   ]
  },
  {
   "cell_type": "markdown",
   "metadata": {},
   "source": [
    "# 5. Numpy Array Broadcasting \n",
    "Arrays with different sizes cannot be added, subtracted, or generally be used in arithmetic. A\n",
    "way to overcome this is to duplicate the smaller array so that it has the dimensionality and\n",
    "size as the larger array. This is called array broadcasting.\n",
    "\n",
    "## 5.1 Limitation with Array Arithmetic \n",
    "Strictly, arithmetic may only be performed on arrays that have the same dimensions and dimensions with the same size. "
   ]
  },
  {
   "cell_type": "markdown",
   "metadata": {},
   "source": [
    "## 5.2 Array Broadcasting \n",
    "Broadcasting is the name given to the method that NumPy uses to allow array arithmetic\n",
    "between arrays with a different shape or size.\n",
    "\n",
    "## 5.3 Scalar and One-Dimensional Array\n",
    "A single value or scalar can be used in arithmetic with a one-dimensional array. "
   ]
  },
  {
   "cell_type": "code",
   "execution_count": 40,
   "metadata": {},
   "outputs": [
    {
     "name": "stdout",
     "output_type": "stream",
     "text": [
      "c array: [3 4 5 6]\n",
      "a array: [1 2 3 4]\n"
     ]
    }
   ],
   "source": [
    "a = np.array(list(range(1, 5)))\n",
    "b = 2 \n",
    "\n",
    "# Broadcast \n",
    "c = a + b \n",
    "print('c array:', c)\n",
    "print('a array:', a)"
   ]
  },
  {
   "cell_type": "markdown",
   "metadata": {},
   "source": [
    "## 5.4 One-Dimensional and Two-Dimensional Arrays\n",
    "A one-dimensional array can be used in arithmetic with a two-dimensional array."
   ]
  },
  {
   "cell_type": "code",
   "execution_count": 41,
   "metadata": {},
   "outputs": [
    {
     "name": "stdout",
     "output_type": "stream",
     "text": [
      "c array: [[2 4 6]\n",
      " [2 4 6]]\n"
     ]
    }
   ],
   "source": [
    "a = np.array([\n",
    "    [1, 2, 3],\n",
    "    [1, 2, 3]\n",
    "])\n",
    "\n",
    "b = np.array([1, 2, 3])\n",
    "\n",
    "# Broadcast \n",
    "c = a + b \n",
    "\n",
    "print('c array:', c)"
   ]
  },
  {
   "cell_type": "markdown",
   "metadata": {},
   "source": [
    "# 6. Vectors and Vector Arithmetic \n",
    "Vectors are a foundational element of linear algebra. Vectors are used throughout the field of\n",
    "machine learning in the description of algorithms and processes such as the target variable (y)\n",
    "when training an algorithm. \n",
    "\n",
    "## 6.1 Defining a Vector \n",
    "We can represent a vector in Python as a NumPy array. "
   ]
  },
  {
   "cell_type": "code",
   "execution_count": 42,
   "metadata": {},
   "outputs": [
    {
     "name": "stdout",
     "output_type": "stream",
     "text": [
      "Vector v: [ 1  2  3  4  5  6  7  8  9 10]\n"
     ]
    }
   ],
   "source": [
    "v = np.array(list(range(1, 11)))\n",
    "print('Vector v:', v)"
   ]
  },
  {
   "cell_type": "markdown",
   "metadata": {},
   "source": [
    "## 6.2 Basic Arithmatic Vector operation (Addition, Subtraction, Multiplication, Division)\n",
    "The new vector has the same length as the other two vectors. Each element of the new\n",
    "vector is calculated as the addition of the elements of the other vectors at the same index;"
   ]
  },
  {
   "cell_type": "code",
   "execution_count": 48,
   "metadata": {},
   "outputs": [
    {
     "name": "stdout",
     "output_type": "stream",
     "text": [
      "Addition Vector c: [ 3  6  9 12 15 18 21 24 27 30]\n",
      "Subtraction Vector d: [ -1  -2  -3  -4  -5  -6  -7  -8  -9 -10]\n",
      "Multiplication Vector e: [  2   8  18  32  50  72  98 128 162 200]\n",
      "Division Vector f: [0.5 0.5 0.5 0.5 0.5 0.5 0.5 0.5 0.5 0.5]\n"
     ]
    }
   ],
   "source": [
    "b = v * 2\n",
    "# add vector \n",
    "c = v + b \n",
    "# subtraction\n",
    "d = v - b\n",
    "# Multiplication\n",
    "e = v * b\n",
    "# Division\n",
    "f = v / b\n",
    "\n",
    "print('Addition Vector c:', c)\n",
    "print('Subtraction Vector d:', d)\n",
    "print('Multiplication Vector e:', e)\n",
    "print('Division Vector f:', f)"
   ]
  },
  {
   "attachments": {
    "image.png": {
     "image/png": "[encoded data removed]"
    }
   },
   "cell_type": "markdown",
   "metadata": {},
   "source": [
    "## 6.3 Vector Dot Product\n",
    "We can calculate the sum of the multiplied elements of two vectors of the same length to give a\n",
    "scalar. This is called the dot product\n",
    "![image.png](attachment:image.png)"
   ]
  },
  {
   "cell_type": "code",
   "execution_count": 50,
   "metadata": {},
   "outputs": [
    {
     "name": "stdout",
     "output_type": "stream",
     "text": [
      "Dot product vector g: 770\n"
     ]
    }
   ],
   "source": [
    "g = b.dot(v)\n",
    "print('Dot product vector g:', g)"
   ]
  },
  {
   "cell_type": "markdown",
   "metadata": {},
   "source": [
    "# 7. Vector Norms\n",
    "Calculating the size or length of a vector is often required either directly or as part of a broader\n",
    "vector or vector-matrix operation. `The length of the vector is always a positive number`, except for a vector of all zero values.\n",
    "It is calculated using some measure that summarizes the distance of the vector from the origin\n",
    "of the vector space. For example, the origin of a vector space for a vector with 3 elements is\n",
    "(0; 0; 0).\n",
    "\n",
    "## 7.1 Vector $L^1$ Norm ##\n",
    "The length of a vector can be calculated using the $L^1$ norm, where the 1 is a superscript of\n",
    "the $L$. The notation for the $L^1$ norm of a vector is $\\|v\\|_1$\n",
    "The $L^1$ norm is calculated as the sum of the absolute vector values, where the absolute value\n",
    "of a scalar uses the notation $\\mid a_1 \\mid$. In effect, the norm is a calculation of the Manhattan distance\n",
    "from the origin of the vector space.\n",
    "$$ \\|v\\|_1 = \\mid a_1 \\mid + \\mid a_2 \\mid + \\mid a_3 \\mid $$\n",
    "\n",
    "The $L_1$ norm of a vector can be calculated in NumPy using the `norm()` function"
   ]
  },
  {
   "cell_type": "code",
   "execution_count": 52,
   "metadata": {},
   "outputs": [
    {
     "name": "stdout",
     "output_type": "stream",
     "text": [
      "Norm L1: 6.0\n"
     ]
    }
   ],
   "source": [
    "from numpy.linalg import norm\n",
    "# Vector L1 norm \n",
    "a = np.array([1,2,3])\n",
    "l1 = norm(a, 1)\n",
    "print('Norm L1:', l1)"
   ]
  },
  {
   "cell_type": "markdown",
   "metadata": {},
   "source": [
    "The $L_1$ norm is often used when fitting machine learning algorithms as a regularization\n",
    "method, e.g. a method to keep the coefficients of the model small, and in turn, the model less\n",
    "complex."
   ]
  },
  {
   "cell_type": "markdown",
   "metadata": {},
   "source": [
    "## 7.2 Vector $L^2$ Norm ##\n",
    "The length of a vector can be calculated using the $L^2$ norm, where the 2 is a superscript of the\n",
    "$L$. The notation for the $L^2$ norm of a vector is $\\|v\\|_2$ where 2 is a subscript.\n",
    "$$ L^2(v) = \\|v\\|_2 $$\n",
    "\n",
    "The $L^2$ norm calculates the distance of the vecter coordinate from the origin of the vector space. As shuch, it is also known as the Euclidean norm as it is calculated as the Euclidean distance from the origin. The $L^2$ norm is calculated as the square root of the sum of the squared vector values.\n",
    "$$ \\|v\\|_2 = \\sqrt{ a^2_1 + a^2_2 + a^2_3}  $$ "
   ]
  },
  {
   "cell_type": "code",
   "execution_count": 53,
   "metadata": {},
   "outputs": [
    {
     "name": "stdout",
     "output_type": "stream",
     "text": [
      "Norm L2: 3.7416573867739413\n"
     ]
    }
   ],
   "source": [
    "l2 = norm(a)\n",
    "print('Norm L2:', l2)"
   ]
  },
  {
   "cell_type": "markdown",
   "metadata": {},
   "source": [
    "Like the $L^1$ norm, the $L^2$ norm is often used when fitting machine learning algorithms as a regularization method,  e.g. a method to keep the coefficients of the model small and, in turn, the model less complex. By far, the $L^2$ norm is more commonly used than other vector norms in machine learning"
   ]
  },
  {
   "cell_type": "markdown",
   "metadata": {},
   "source": [
    "## 7.3 Vector Max Norm ##\n",
    "The length of a vector can be calculated using the maximum norm, also called max norm. Max\n",
    "norm of a vector is referred to as $L^{inf}$ where inf is a superscript.\n",
    "The max norm is calculated as returning the maximum value of the vector, hence the name.\n",
    "$$ \\|v\\|_{inf} = max(a_1, a_2, a_3) $$"
   ]
  },
  {
   "cell_type": "code",
   "execution_count": 55,
   "metadata": {},
   "outputs": [
    {
     "name": "stdout",
     "output_type": "stream",
     "text": [
      "Norm L3: 3.0\n"
     ]
    }
   ],
   "source": [
    "from math import inf\n",
    "maxnorm = norm(a, inf)\n",
    "print('Norm L3:', maxnorm)"
   ]
  },
  {
   "cell_type": "markdown",
   "metadata": {},
   "source": [
    "# 8.Matrices and Matrix Arithmetic \n",
    "Matrices are a foundational element of linear algebra. Matrices are used throughout the field of\n",
    "machine learning in the description of algorithms and processes such as the input data variable $(X)$ \n",
    "\n",
    "## 8.1 What is a Matrix \n",
    "A matrix is a two-dimensional aray of scalars with one or more columns and one or more rows.\n",
    "It is common to see matrices defined using a horizontal notation. for example, we can define a 3-row, 2 column matrix:\n",
    "$$ A = ((a_{1,1},a_{1,2}),(a_{2,1}, a_{2,2}),(a_{3,1}, a_{3,2})) $$ \n",
    "It is more common to see matrices defined using a horizental notation.\n",
    "$$ A = \\begin{pmatrix}a_{1,1} \\: a_{1,2} \\\\ a_{2,1} \\: a_{2,2} \\\\ a_{3,1} \\: a_{3,2}\\end{pmatrix} $$\n",
    "A likely first place you may encounter a matrix in machine learning is in model training\n",
    "data comprised of many rows and columns and often represented using the capital letter $X$"
   ]
  },
  {
   "cell_type": "markdown",
   "metadata": {},
   "source": [
    "## 8.2 Defining a Matrix ##\n",
    "We can represent a matrix in Python using a two-dimensional NumPy array. A NumPy array\n",
    "can be constructed given a list of lists. "
   ]
  },
  {
   "cell_type": "code",
   "execution_count": 58,
   "metadata": {},
   "outputs": [
    {
     "name": "stdout",
     "output_type": "stream",
     "text": [
      "Matrix a:\n",
      "  [[1 2 3]\n",
      " [4 5 6]]\n"
     ]
    }
   ],
   "source": [
    "a = np.array([[1, 2, 3], [4, 5, 6]])\n",
    "print('Matrix a:\\n ', a)"
   ]
  },
  {
   "cell_type": "markdown",
   "metadata": {},
   "source": [
    "## 8.3 Matrix Multiplication (Hadamard Product)\n",
    "Two matrices with the same size can be multiplied together, and this is often called element-wise\n",
    "matrix multiplication or the Hadamard product. It is not the typical operation meant when\n",
    "referring to matrix multiplication, therefore a different operator is often used, such as a circle $\\circ$\n",
    "$$ C = A \\circ B $$\n",
    "As with element-wise subtraction and addition, element-wise multiplication involves the multiplication of elements from each parent matrix to calculate the value in the new matrix \n",
    "$$ C = \\begin{pmatrix}a_{1,1} \\times b_{1,1} \\quad a_{1,2} \\times b_{1,2} \\\\\n",
    "        a_{2,1} \\times b_{2,1} \\quad a_{2,2} \\times b_{2,2} \\\\\n",
    "        a_{3,1} \\times b_{3,1} \\quad a_{3,2} \\times b_{3,2}\n",
    "        \\end{pmatrix} $$"
   ]
  },
  {
   "cell_type": "code",
   "execution_count": 60,
   "metadata": {},
   "outputs": [
    {
     "name": "stdout",
     "output_type": "stream",
     "text": [
      "Matrix multiplication:\n",
      " [[ 1  4  9]\n",
      " [16 25 36]]\n"
     ]
    }
   ],
   "source": [
    "A = np.array([\n",
    "    [1, 2, 3],\n",
    "    [4, 5, 6]\n",
    "])\n",
    "\n",
    "B = np.array([\n",
    "    [1, 2, 3],\n",
    "    [4, 5, 6]\n",
    "])\n",
    "\n",
    "# Multiply matrices\n",
    "C = A * B\n",
    "print('Matrix multiplication:\\n', C)\n"
   ]
  },
  {
   "cell_type": "markdown",
   "metadata": {},
   "source": [
    "## 8.4 Matrix-Matrix Multiplication \n",
    "Matrix multiplication, also called the matrix dot product is more complicated than the previous\n",
    "operations and involves a rule as not all matrices can be multiplied together.\n",
    "$$ C = AB \\quad or \\quad C = A\\cdot B $$ \n",
    "**The number of columns $(n)$ in the first matrix $(A)$ must equal the number of rows $(m)$ in the second matrix $(B)$ **\n",
    "\n",
    "$A$ must have the same number of columns as $B$ has rows. If $A$ is of shape $m \\times n$ and $B$ is of shape $n \\times p$, then $C$ is of shape $m \\times p$.\n",
    "\n",
    "$$ \\begin{aligned}\n",
    "    A \\times B & = \\begin{bmatrix} a_{11} \\: a_{12} \\: a_{13}\\\\ a_{21} \\: a_{22} \\: a_{23} \\end{bmatrix}_{2\\times3} \\times\n",
    "    \\begin{bmatrix} b_{11} \\: b_{12} \\\\ b_{21} \\: b_{22} \\\\ b_{31} \\: b_{32} \\end{bmatrix}_{3\\times2} \\\\\n",
    "     & = \\begin{bmatrix} a_{11}b_{11} + a_{12}b_{21} +a_{13}b_{31} \\quad a_{11}b_{12} + a_{12}b_{22} + a_{13}b_{32} \\\\\n",
    "        a_{11}b_{12} + a_{12}b_{22} + a_{12}b_{32} \\quad a_{21}b_{12} + a_{22}b_{22} + a_{23}b_{32}\n",
    "    \\end{bmatrix} \\\\\n",
    "    & = \\begin{bmatrix} c_{11} \\: c_{12} \\\\ c_{12} \\: c_{22} \\end{bmatrix}_{2\\times2}\n",
    "    \\end{aligned}\n",
    "$$\n",
    "\n",
    "The matrix multiplicatioon operation can be implemented in NumPy using `dot()` function. It can also be calculated using the newer `@` operator, since Python version 3.5"
   ]
  },
  {
   "cell_type": "code",
   "execution_count": 61,
   "metadata": {},
   "outputs": [
    {
     "name": "stdout",
     "output_type": "stream",
     "text": [
      "Matrix Multiplication .dot():\n",
      " [[ 7 10]\n",
      " [15 22]\n",
      " [23 34]]\n",
      "Matrix Multiplication @:\n",
      " [[ 7 10]\n",
      " [15 22]\n",
      " [23 34]]\n"
     ]
    }
   ],
   "source": [
    "A = np.array([\n",
    "    [1, 2],\n",
    "    [3, 4],\n",
    "    [5, 6]\n",
    "])\n",
    "\n",
    "B = np.array([\n",
    "    [1, 2],\n",
    "    [3, 4]\n",
    "])\n",
    "\n",
    "# multiply matrices\n",
    "C = A.dot(B)\n",
    "\n",
    "# multiply matrices with @ operator\n",
    "D = A @ B \n",
    "\n",
    "print('Matrix Multiplication .dot():\\n', C)\n",
    "print('Matrix Multiplication @:\\n', D)"
   ]
  },
  {
   "cell_type": "markdown",
   "metadata": {},
   "source": [
    "Explain Step \n",
    "ให้ $ A = \\begin{bmatrix}1 \\: 2 \\\\ 3 \\: 4 \\\\ 5\\: 6 \\end{bmatrix}_{3\\times2}$ และ $ B = \\begin{bmatrix}1 \\: 2 \\\\ 3 \\: 4 \\end{bmatrix}_{2\\times2} $\n",
    "\n",
    "$$ \\begin{aligned} \n",
    "    A \\times B & = \\begin{bmatrix}1 \\: 2 \\\\ 3 \\: 4 \\\\ 5\\: 6 \\end{bmatrix}_{3\\times2} \\times \\begin{bmatrix}1 \\: 2 \\\\ 3 \\: 4 \\end{bmatrix}_{2\\times2} \\\\\n",
    "    & = \\begin{bmatrix}\n",
    "            1\\cdot1 + 2\\cdot3 \\quad 1\\cdot2 + 2\\cdot4 \\\\\n",
    "            3\\cdot1 + 4\\cdot3 \\quad 3\\cdot2 + 4\\cdot4 \\\\\n",
    "            5\\cdot1 + 6\\cdot3 \\quad 5\\cdot2 + 6\\cdot4\n",
    "        \\end{bmatrix} \\\\\n",
    "    & = \\begin{bmatrix}\n",
    "            7 \\quad 10 \\\\\n",
    "            15 \\quad 22 \\\\\n",
    "            23 \\quad 34\n",
    "        \\end{bmatrix}_{3\\times2}\n",
    "   \\end{aligned}\n",
    "$$"
   ]
  },
  {
   "cell_type": "markdown",
   "metadata": {},
   "source": [
    "## 8.5 Matrix-Vector Multiplication ##\n",
    "A matrix and a vector can be multiplied together as long as the rule of matrix multiplication\n",
    "is observed. Specifically, that the number of columns in the matrix must equal the number of\n",
    "items in the vector.\n",
    "$$ c = A\\cdot v $$ \n",
    "The result is a vector with the same number of rows as the parent matrix.\n",
    "$$ A = \\begin{pmatrix}a_{1,1} \\quad a_{1,2} \\\\ a_{2,1} \\quad a_{2,2} \\\\ a_{3,1} \\quad a_{3,2} \\end{pmatrix} \\\\\n",
    "    v = \\begin{pmatrix}v_1 \\\\ v_2\\end{pmatrix} \\\\ \n",
    "    c = \\begin{pmatrix}\n",
    "            a_{1,1} \\times v_1 + a_{1,2} \\times v_2 \\\\\n",
    "            a_{2,1} \\times v_1 + a_{2,2} \\times v_2 \\\\\n",
    "            a_{3,1} \\times v_1 + a_{3,2} \\times v_2\n",
    "        \\end{pmatrix}\n",
    "$$"
   ]
  },
  {
   "cell_type": "code",
   "execution_count": 62,
   "metadata": {},
   "outputs": [
    {
     "name": "stdout",
     "output_type": "stream",
     "text": [
      "Multiply vector c:\n",
      " [1.5 3.5 5.5]\n"
     ]
    }
   ],
   "source": [
    "A = np.array([\n",
    "    [1,2],\n",
    "    [3,4],\n",
    "    [5,6]\n",
    "])\n",
    "\n",
    "# define vector\n",
    "B = np.array([0.5, 0.5])\n",
    "\n",
    "# vector multiply \n",
    "C = A.dot(B)\n",
    "\n",
    "print('Multiply vector c:\\n', C)"
   ]
  },
  {
   "cell_type": "markdown",
   "metadata": {},
   "source": [
    "# 9. Types of Matrices ##\n",
    "A lot of linear algebra is concerned with operations on vectors and matrices, and there are many\n",
    "different types of matrices. There are a few types of matrices that you may encounter again and\n",
    "again when getting started in linear algebra, particularity the parts of linear algebra relevant to\n",
    "machine learning. \n",
    "\n",
    "## 9.1 Square Matrix \n",
    "A square matrix is a matrix where the number of rows $(n)$ is equivalent to the number of\n",
    "columns $(m)$.\n",
    "\n",
    "$$ M = \\begin{pmatrix} 1 \\: 2 \\: 3 \\\\ 1 \\: 2 \\: 3 \\\\ 1 \\: 2 \\: 3 \\end{pmatrix} $$\n",
    "\n",
    "Square matrices are readily added and multiplied together and are the basis of many simple\n",
    "linear transformations, such as rotations (as in the rotations of images)"
   ]
  },
  {
   "cell_type": "markdown",
   "metadata": {},
   "source": [
    "## 9.2 Symmetric Matix\n",
    "A symmetric matrix is a type of square matrix where the top-right triangle is the same as the\n",
    "bottom-left triangle.\n",
    "$$ M = \\begin{pmatrix} \n",
    "        1 \\: 2 \\: 3 \\: 4 \\: 5 \\\\\n",
    "        2 \\: 1 \\: 2 \\: 3 \\: 4 \\\\\n",
    "        3 \\: 2 \\: 1 \\: 2 \\: 3 \\\\\n",
    "        4 \\: 3 \\: 2 \\: 1 \\: 2 \\\\\n",
    "        5 \\: 4 \\: 3 \\: 2 \\: 1 \\\\\n",
    "       \\end{pmatrix}\n",
    "$$\n",
    "A symmetric matrix is always square and equal to its own transpose. The transpose is an\n",
    "operation that flips the number of rows and columns. It is explained in more detail in the next\n",
    "lesson\n",
    "$$ M = M^T $$"
   ]
  },
  {
   "cell_type": "markdown",
   "metadata": {},
   "source": [
    "## 9.3 Triangular Matrix\n",
    "A triangular matrix is a type of square matrix that has all values in the upper-right or lower-left\n",
    "of the matrix with the remaining elements filled with zero values. A triangular matrix with\n",
    "values only above the main diagonal is called an upper triangular matrix\n",
    "$$ M = \\begin{pmatrix} 1 \\: 2 \\: 3 \\\\ 0 \\: 2 \\: 3 \\\\ 0 \\: 0 \\: 3 \\end{pmatrix} $$\n",
    "NumPy provides functions to calculate a triangular matrix from an existing square matrix.\n",
    "The `tril()` function to calculate the lower triangular matrix from a given matrix and the\n",
    "`triu()` to calculate the upper triangular matrix from a given matrix"
   ]
  },
  {
   "cell_type": "code",
   "execution_count": 64,
   "metadata": {},
   "outputs": [
    {
     "name": "stdout",
     "output_type": "stream",
     "text": [
      "Sample lower triangular matrix:\n",
      " [[1 0 0]\n",
      " [1 2 0]\n",
      " [1 2 3]]\n",
      "Sample upper triangular matrix:\n",
      " [[1 2 3]\n",
      " [0 2 3]\n",
      " [0 0 3]]\n"
     ]
    }
   ],
   "source": [
    "M = np.array([\n",
    "    [1, 2, 3],\n",
    "    [1, 2, 3],\n",
    "    [1, 2, 3]\n",
    "])\n",
    "\n",
    "# lower triangular matrix \n",
    "lower = np.tril(M)\n",
    "print('Sample lower triangular matrix:\\n', lower)\n",
    "\n",
    "# upper triangular matrix \n",
    "upper = np.triu(M)\n",
    "print('Sample upper triangular matrix:\\n', upper)"
   ]
  },
  {
   "cell_type": "markdown",
   "metadata": {},
   "source": [
    "## 9.4 Diagonal Matrix\n",
    "A diagonal matrix is one where values outside of the main diagonal have a zero value, where the\n",
    "main diagonal is taken from the top left of the matrix to the bottom right. A diagonal matrix\n",
    "is often denoted with the variable D\n",
    "$$ D = \\begin{pmatrix}1 \\: 0 \\: 0 \\\\ 0 \\: 2 \\: 0 \\\\ 0 \\: 0 \\: 3 \\end{pmatrix} $$ \n",
    "As a vector, it would be represented as: \n",
    "$$ d = \\begin{pmatrix}d_{1,1} \\\\ d_{2,2} \\\\ d_{3,3} \\end{pmatrix} $$ \n",
    "NumPy provides the function `diag()` that can create a diagonal matrix from an existing\n",
    "matrix, or transform a vector into a diagonal matrix."
   ]
  },
  {
   "cell_type": "code",
   "execution_count": 66,
   "metadata": {},
   "outputs": [
    {
     "name": "stdout",
     "output_type": "stream",
     "text": [
      "Diagonal matrix from vector:\n",
      " [1 2 3]\n"
     ]
    }
   ],
   "source": [
    "d = np.diag(M)\n",
    "\n",
    "print('Diagonal matrix from vector:\\n', d)"
   ]
  },
  {
   "cell_type": "markdown",
   "metadata": {},
   "source": [
    "## 9.5 Identity Matrix\n",
    "`An identity matrix is a square matrix that does not change a vector when multiplied`. The\n",
    "values of an identity matrix are known. All of the scalar values along the main diagonal (top-left\n",
    "to bottom-right) have the value one, while all other values are zero.\n",
    "For example, an identity matrix with the size 3 or I3 would be as follows:\n",
    "$$ I = \\begin{pmatrix}1 \\: 0 \\: 0 \\\\ 0 \\: 1\\: 0 \\\\ 0 \\: 0 \\: 1 \\end{pmatrix} $$ \n",
    "n NumPy, an identity matrix can be created with a specific size using the `identity()`\n",
    "function. It is a component in other import matrix operations, such as matrix inversion."
   ]
  },
  {
   "cell_type": "code",
   "execution_count": 68,
   "metadata": {},
   "outputs": [
    {
     "name": "stdout",
     "output_type": "stream",
     "text": [
      "Identity matrix 3x3:\n",
      "  [[1. 0. 0.]\n",
      " [0. 1. 0.]\n",
      " [0. 0. 1.]]\n"
     ]
    }
   ],
   "source": [
    "I = np.identity(3)\n",
    "print('Identity matrix 3x3:\\n ', I)"
   ]
  },
  {
   "cell_type": "markdown",
   "metadata": {},
   "source": [
    "## 9.6 Orthogonal Matrix \n",
    "Two vectors are orthogonal when their dot product equals zero. The length of each vector is 1\n",
    "then the vectors are called orthonormal because they are both orthogonal and normalized.\n",
    "$$ v \\cdot w = 0 $$ \n",
    "or \n",
    "$$ v \\cdot w^T = 0 $$ \n",
    "\n",
    "The Orthogonal matrix is defined formally as follows:\n",
    "$$ Q^T \\cdot Q = Q \\cdot Q^T = I $$ \n",
    "\n",
    "Orthogonal matrices are used a lot for linear transformations, such as reflections and permutations. "
   ]
  },
  {
   "cell_type": "code",
   "execution_count": 73,
   "metadata": {},
   "outputs": [
    {
     "name": "stdout",
     "output_type": "stream",
     "text": [
      "[[ 1  0]\n",
      " [ 0 -1]]\n",
      "[[ 1.  0.]\n",
      " [-0. -1.]]\n",
      "[[1 0]\n",
      " [0 1]]\n"
     ]
    }
   ],
   "source": [
    "from numpy.linalg import inv\n",
    "# define orthogonal matrix \n",
    "Q = np.array([\n",
    "    [1, 0],\n",
    "    [0, -1]\n",
    "])\n",
    "\n",
    "# inverse equivalence \n",
    "V = inv(Q)\n",
    "print(Q.T) # .T = transpose\n",
    "print(V)\n",
    "\n",
    "# identity equivalence\n",
    "I = Q.dot(Q.T)\n",
    "print(I)"
   ]
  },
  {
   "cell_type": "markdown",
   "metadata": {},
   "source": [
    "# 10. Matrix Operations\n",
    "Matrix operations are used in the description of many machine learning algorithms. Some\n",
    "operations can be used directly to solve key equations, whereas others provide useful shorthand\n",
    "or foundation in the description and the use of more complex matrix operations.\n",
    "## 10.1 Transpose\n",
    "A defined matrix can be transposed, which creates a new matrix with the number of columns\n",
    "and rows flipped. This is denoted by the superscript $T$ next to the matrix $A^T$."
   ]
  },
  {
   "cell_type": "code",
   "execution_count": 75,
   "metadata": {},
   "outputs": [
    {
     "name": "stdout",
     "output_type": "stream",
     "text": [
      "Transpose matrix A:\n",
      " [[1 3 5]\n",
      " [2 4 6]]\n"
     ]
    }
   ],
   "source": [
    "A = np.array([\n",
    "    [1,2],\n",
    "    [3,4],\n",
    "    [5,6]\n",
    "])\n",
    "\n",
    "C = A.T\n",
    "print('Transpose matrix A:\\n', C)"
   ]
  },
  {
   "cell_type": "markdown",
   "metadata": {},
   "source": [
    "## 10.2 Inverse\n",
    "Matrix inversion is a process that finds another matrix that when multiplied with the matrix,\n",
    "results in an identity matrix. Given a matrix $A$, find matrix $B$, such that $AB = I^n$ or $BA = I^n$.\n",
    "The operation of inverting a matrix is indicated by a −1 superscript next to the matrix; for\n",
    "example, $A^{−1}$. The result of the operation is referred to as the inverse of the original matrix;\n",
    "for example, $B$ is the inverse of $A$\n",
    "$$ B = A^{-1}$$"
   ]
  },
  {
   "cell_type": "code",
   "execution_count": 76,
   "metadata": {},
   "outputs": [
    {
     "name": "stdout",
     "output_type": "stream",
     "text": [
      "Test Inverse metrix:\n",
      " [[1.00000000e+00 1.11022302e-16]\n",
      " [0.00000000e+00 1.00000000e+00]]\n"
     ]
    }
   ],
   "source": [
    "# define matrix \n",
    "A = np.array([\n",
    "    [1,2],\n",
    "    [3,4]\n",
    "])\n",
    "\n",
    "# invert matrix \n",
    "B = inv(A)\n",
    "\n",
    "# multiply A and B (checked if inverse matrix is identity matrix)\n",
    "I = A.dot(B)\n",
    "print('Test Inverse metrix:\\n', I)"
   ]
  },
  {
   "cell_type": "markdown",
   "metadata": {},
   "source": [
    "Matrix inversion is used as an operation in solving systems of\n",
    "equations framed as matrix equations where we are interested in finding vectors of unknowns.\n",
    "A good example is in finding the vector of coefficient values in linear regression."
   ]
  },
  {
   "cell_type": "markdown",
   "metadata": {},
   "source": [
    "## 10.3 Trace\n",
    "A trace of a square matrix is the sum of the values on the main diagonal of the matrix (top-left\n",
    "to bottom-right).The operation of calculating a trace on a square matrix is described using the notation tr(A)\n",
    "where A is the square matrix on which the operation is being performed.\n",
    "$$ tr(A) $$ \n",
    "The trace is calculated as the sum of the diagonal values; for example, in the case of a 3 x 3 matrix:\n",
    "$$ tr(A) = a_{1,1} + a_{2,2} + a_{3,3} $$ \n"
   ]
  },
  {
   "cell_type": "code",
   "execution_count": 77,
   "metadata": {},
   "outputs": [
    {
     "name": "stdout",
     "output_type": "stream",
     "text": [
      "Trace value of matrix A: 15\n"
     ]
    }
   ],
   "source": [
    "# define matrix \n",
    "A = np.array([\n",
    "    [1,2,3],\n",
    "    [4,5,6],\n",
    "    [7,8,9]\n",
    "])\n",
    "\n",
    "print('Trace value of matrix A:', np.trace(A))"
   ]
  },
  {
   "cell_type": "markdown",
   "metadata": {},
   "source": [
    "## 10.4 Determinant\n",
    "The determinant describes the relative geometry of the vectors that make up the\n",
    "rows of the matrix. More specifically, the determinant of a matrix A tells you the\n",
    "volume of a box with sides given by rows of A.\n",
    "More\n",
    "technically, the determinant is the product of all the eigenvalues of the matrix. Eigenvalues\n",
    "are introduced in the lessons on matrix factorization.\n",
    "\n",
    "$$ det(A) $$\n",
    "\n",
    "The determinant of a square matrix is a single number.It tells immediately\n",
    "whether the matrix is invertible. The determinant is a zero when the matrix has no\n",
    "inverse."
   ]
  },
  {
   "cell_type": "code",
   "execution_count": 78,
   "metadata": {},
   "outputs": [
    {
     "name": "stdout",
     "output_type": "stream",
     "text": [
      "Determinant A: -9.51619735392994e-16\n"
     ]
    }
   ],
   "source": [
    "from numpy.linalg import det \n",
    "# calculate determinant \n",
    "B = det(A)\n",
    "print('Determinant A:', B)"
   ]
  },
  {
   "cell_type": "markdown",
   "metadata": {},
   "source": [
    "# 11. Sparse Matrices\n",
    "Matrices that contain mostly zero values are called sparse, distinct from matrices where most\n",
    "of the values are non-zero, called dense.Large sparse matrices are common in general and\n",
    "especially in applied machine learning, such as in data that contains counts, data encodings\n",
    "that map categories to counts,"
   ]
  },
  {
   "cell_type": "markdown",
   "metadata": {},
   "source": [
    "# 12. Tensors\n",
    "A tensor is a generalization of vectors and matrices and is easily understood as a multidimensional\n",
    "array"
   ]
  },
  {
   "cell_type": "markdown",
   "metadata": {},
   "source": [
    "# 13. Matrix Decompositions \n",
    "Matrix decompositions are methods that reduce a matrix into constituent\n",
    "parts that make it easier to calculate more complex matrix operations. A common analogy for matrix\n",
    "decomposition is the factoring of numbers, such as the factoring of 10 into 2 × 5.\n",
    "## 13.1 LU Decomposition \n",
    "The LU decomposition is for square matrices and decomposes a matrix into L and U components.\n",
    "$$ A = L \\cdot U $$\n",
    "Where $A$ is the square matrix that we wish to decompose, $L$ is the lower triangle matrix\n",
    "and $U$ is the upper triangle matrix.\n",
    "The LU decomposition is found using an iterative numerical process and can fail for those\n",
    "matrices that cannot be decomposed or decomposed easily. The LU decomposition can be implemented in Python with the `lu()` function. More\n",
    "specifically, this function calculates an LPU decomposition. "
   ]
  },
  {
   "cell_type": "code",
   "execution_count": null,
   "metadata": {},
   "outputs": [],
   "source": []
  }
 ],
 "metadata": {
  "kernelspec": {
   "display_name": "Python 3",
   "language": "python",
   "name": "python3"
  },
  "language_info": {
   "codemirror_mode": {
    "name": "ipython",
    "version": 3
   },
   "file_extension": ".py",
   "mimetype": "text/x-python",
   "name": "python",
   "nbconvert_exporter": "python",
   "pygments_lexer": "ipython3",
   "version": "3.6.5"
  }
 },
 "nbformat": 4,
 "nbformat_minor": 2
}
